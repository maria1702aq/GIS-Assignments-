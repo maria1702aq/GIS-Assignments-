{
 "cells": [
  {
   "cell_type": "markdown",
   "metadata": {
    "deletable": false,
    "editable": false,
    "nbgrader": {
     "cell_type": "markdown",
     "checksum": "3063c59084316ccb6e3e4d6611864c74",
     "grade": false,
     "grade_id": "cell-8e97f56bdddd1895",
     "locked": true,
     "schema_version": 3,
     "solution": false
    }
   },
   "source": [
    "## Problem 3: Reading coordinates from a file and creating geometries (*5 points*) \n",
    "\n",
    "One of the most typical problems in GIS is the situation where you have a set of coordinates in some file, and you need to map those. Python is a really handy tool for these kind of situations, as it is possible to read data from (basically) any kind of input datafile (such as csv-, txt-, excel-, gpx-files (gps data), databases etc.). \n",
    "\n",
    "Thus, let's see how we can read data from a file and create Point -objects from them that can be saved e.g. as a new Shapefile (we will learn this next week). Our dataset **[travelTimes_2015_Helsinki.txt](data/travelTimes_2015_Helsinki.txt)** consist of \n",
    "travel times between specific locations in Helsinki Region. The first four rows of our data looks like this:\n",
    "\n",
    "```\n",
    "   from_id;to_id;fromid_toid;route_number;at;from_x;from_y;to_x;to_y;total_route_time;route_time;route_distance\n",
    "   5861326;5785640;5861326_5785640;1;08:10;24.9704379;60.3119173;24.8560344;60.399940599999994;125.0;99.0;22917.6\n",
    "   5861326;5785641;5861326_5785641;1;08:10;24.9704379;60.3119173;24.8605682;60.4000135;123.0;102.0;23123.5\n",
    "   5861326;5785642;5861326_5785642;1;08:10;24.9704379;60.3119173;24.865102;60.4000863;125.0;103.0;23241.3\n",
    "```\n",
    "\n",
    "As we can see, there exists many columns in the data, but the few important ones needed here are:\n",
    "\n",
    "| Column | Description |\n",
    "|--------|-------------|\n",
    "| from_x | x-coordinate of the **origin** location (longitude) |\n",
    "| from_y | y-coordinate of the **origin** location (latitude) |\n",
    "| to_x   | x-coordinate of the **destination** location (longitude)|\n",
    "| to_y   | y-coordinate of the **destination** location (latitude) |\n",
    "| total_route_time | Travel time with public transportation at the route |\n",
    "\n",
    "Read more about the input data set at the Digital Geography Lab / Accessibility Research Group (University of Helsinki, Finland) website: https://blogs.helsinki.fi/accessibility/helsinki-region-travel-time-matrix/.\n",
    "\n",
    "### Steps\n",
    "\n",
    "1: Read the [data/travelTimes_2015_Helsinki.txt](data/travelTimes_2015_Helsinki.txt) file into a variable **`data`** using  pandas.\n",
    "\n",
    "**NOTE:** What is the separator in the data (see above)? Remember to take that into account when reading the data.\n"
   ]
  },
  {
   "cell_type": "code",
   "execution_count": 27,
   "metadata": {
    "deletable": false,
    "nbgrader": {
     "cell_type": "code",
     "checksum": "988845921e1467790d136a8aafbdcfb1",
     "grade": false,
     "grade_id": "read_data",
     "locked": false,
     "schema_version": 3,
     "solution": true
    }
   },
   "outputs": [],
   "source": [
    "import pandas as pd\n",
    "data = pd.read_csv(r'C:\\Users\\Maria\\Desktop\\ISB\\GIS Course\\Exercise-1-master\\data\\travelTimes_2015_Helsinki.csv', sep=';'  , engine='python') \n"
   ]
  },
  {
   "cell_type": "code",
   "execution_count": 28,
   "metadata": {},
   "outputs": [
    {
     "data": {
      "text/plain": [
       "(14643, 13)"
      ]
     },
     "execution_count": 28,
     "metadata": {},
     "output_type": "execute_result"
    }
   ],
   "source": [
    "#Check how many rows\n",
    "data.shape"
   ]
  },
  {
   "cell_type": "code",
   "execution_count": 29,
   "metadata": {
    "deletable": false,
    "editable": false,
    "nbgrader": {
     "cell_type": "code",
     "checksum": "ebc40fce0e44a4b17f138fd5d26cf39c",
     "grade": true,
     "grade_id": "problem_3_read_data_test",
     "locked": true,
     "points": 0.5,
     "schema_version": 3,
     "solution": false
    }
   },
   "outputs": [
    {
     "name": "stdout",
     "output_type": "stream",
     "text": [
      "   from_id    to_id      fromid_toid  route_number     at     from_x  \\\n",
      "0  5861326  5785640  5861326_5785640             1  08:10  24.970438   \n",
      "1  5861326  5785641  5861326_5785641             1  08:10  24.970438   \n",
      "2  5861326  5785642  5861326_5785642             1  08:10  24.970438   \n",
      "3  5861326  5785643  5861326_5785643             1  08:10  24.970438   \n",
      "4  5861326  5787544  5861326_5787544             1  08:10  24.970438   \n",
      "\n",
      "      from_y       to_x       to_y  total_route_time  route_time  \\\n",
      "0  60.311917  24.856034  60.399941             125.0        99.0   \n",
      "1  60.311917  24.860568  60.400014             123.0       102.0   \n",
      "2  60.311917  24.865102  60.400086             125.0       103.0   \n",
      "3  60.311917  24.869636  60.400159             129.0       107.0   \n",
      "4  60.311917  24.842582  60.397478             118.0        92.0   \n",
      "\n",
      "   route_distance  route_total_lines  \n",
      "0         22917.6                2.0  \n",
      "1         23123.5                2.0  \n",
      "2         23241.3                2.0  \n",
      "3         23534.2                2.0  \n",
      "4         22428.2                2.0  \n"
     ]
    }
   ],
   "source": [
    "# NON-EDITABLE CODE CELL FOR TESTING YOUR SOLUTION\n",
    "\n",
    "# This test print should print first five rows in the data (if not, something is incorrect):\n",
    "print(data.head())"
   ]
  },
  {
   "cell_type": "markdown",
   "metadata": {
    "deletable": false,
    "editable": false,
    "nbgrader": {
     "cell_type": "markdown",
     "checksum": "e9077b14c374dc98430c6f2b0c712e30",
     "grade": false,
     "grade_id": "select_data_instructions",
     "locked": true,
     "schema_version": 3,
     "solution": false
    }
   },
   "source": [
    "2: Select the 4 columns that contain coordinate information (**'from_x'**, **'from_y'**, **'to_x'**, **'to_y'**) and store them in variable **`data`** (i.e. update the data -variable).\n"
   ]
  },
  {
   "cell_type": "code",
   "execution_count": 31,
   "metadata": {
    "deletable": false,
    "nbgrader": {
     "cell_type": "code",
     "checksum": "d24f737ef22a91bea93a6fe3abd75d46",
     "grade": false,
     "grade_id": "select_data",
     "locked": false,
     "schema_version": 3,
     "solution": true
    }
   },
   "outputs": [
    {
     "data": {
      "text/html": [
       "<div>\n",
       "<style scoped>\n",
       "    .dataframe tbody tr th:only-of-type {\n",
       "        vertical-align: middle;\n",
       "    }\n",
       "\n",
       "    .dataframe tbody tr th {\n",
       "        vertical-align: top;\n",
       "    }\n",
       "\n",
       "    .dataframe thead th {\n",
       "        text-align: right;\n",
       "    }\n",
       "</style>\n",
       "<table border=\"1\" class=\"dataframe\">\n",
       "  <thead>\n",
       "    <tr style=\"text-align: right;\">\n",
       "      <th></th>\n",
       "      <th>from_x</th>\n",
       "      <th>from_y</th>\n",
       "      <th>to_x</th>\n",
       "      <th>to_y</th>\n",
       "    </tr>\n",
       "  </thead>\n",
       "  <tbody>\n",
       "    <tr>\n",
       "      <th>0</th>\n",
       "      <td>24.970438</td>\n",
       "      <td>60.311917</td>\n",
       "      <td>24.856034</td>\n",
       "      <td>60.399941</td>\n",
       "    </tr>\n",
       "    <tr>\n",
       "      <th>1</th>\n",
       "      <td>24.970438</td>\n",
       "      <td>60.311917</td>\n",
       "      <td>24.860568</td>\n",
       "      <td>60.400014</td>\n",
       "    </tr>\n",
       "    <tr>\n",
       "      <th>2</th>\n",
       "      <td>24.970438</td>\n",
       "      <td>60.311917</td>\n",
       "      <td>24.865102</td>\n",
       "      <td>60.400086</td>\n",
       "    </tr>\n",
       "    <tr>\n",
       "      <th>3</th>\n",
       "      <td>24.970438</td>\n",
       "      <td>60.311917</td>\n",
       "      <td>24.869636</td>\n",
       "      <td>60.400159</td>\n",
       "    </tr>\n",
       "    <tr>\n",
       "      <th>4</th>\n",
       "      <td>24.970438</td>\n",
       "      <td>60.311917</td>\n",
       "      <td>24.842582</td>\n",
       "      <td>60.397478</td>\n",
       "    </tr>\n",
       "    <tr>\n",
       "      <th>...</th>\n",
       "      <td>...</td>\n",
       "      <td>...</td>\n",
       "      <td>...</td>\n",
       "      <td>...</td>\n",
       "    </tr>\n",
       "    <tr>\n",
       "      <th>14638</th>\n",
       "      <td>24.970438</td>\n",
       "      <td>60.311917</td>\n",
       "      <td>24.559702</td>\n",
       "      <td>60.174754</td>\n",
       "    </tr>\n",
       "    <tr>\n",
       "      <th>14639</th>\n",
       "      <td>24.970438</td>\n",
       "      <td>60.311917</td>\n",
       "      <td>24.564204</td>\n",
       "      <td>60.174837</td>\n",
       "    </tr>\n",
       "    <tr>\n",
       "      <th>14640</th>\n",
       "      <td>24.970438</td>\n",
       "      <td>60.311917</td>\n",
       "      <td>24.555367</td>\n",
       "      <td>60.172428</td>\n",
       "    </tr>\n",
       "    <tr>\n",
       "      <th>14641</th>\n",
       "      <td>24.970438</td>\n",
       "      <td>60.311917</td>\n",
       "      <td>24.559868</td>\n",
       "      <td>60.172511</td>\n",
       "    </tr>\n",
       "    <tr>\n",
       "      <th>14642</th>\n",
       "      <td>24.970438</td>\n",
       "      <td>60.311917</td>\n",
       "      <td>24.555534</td>\n",
       "      <td>60.170185</td>\n",
       "    </tr>\n",
       "  </tbody>\n",
       "</table>\n",
       "<p>14643 rows × 4 columns</p>\n",
       "</div>"
      ],
      "text/plain": [
       "          from_x     from_y       to_x       to_y\n",
       "0      24.970438  60.311917  24.856034  60.399941\n",
       "1      24.970438  60.311917  24.860568  60.400014\n",
       "2      24.970438  60.311917  24.865102  60.400086\n",
       "3      24.970438  60.311917  24.869636  60.400159\n",
       "4      24.970438  60.311917  24.842582  60.397478\n",
       "...          ...        ...        ...        ...\n",
       "14638  24.970438  60.311917  24.559702  60.174754\n",
       "14639  24.970438  60.311917  24.564204  60.174837\n",
       "14640  24.970438  60.311917  24.555367  60.172428\n",
       "14641  24.970438  60.311917  24.559868  60.172511\n",
       "14642  24.970438  60.311917  24.555534  60.170185\n",
       "\n",
       "[14643 rows x 4 columns]"
      ]
     },
     "execution_count": 31,
     "metadata": {},
     "output_type": "execute_result"
    }
   ],
   "source": [
    "data = data[['from_x', 'from_y', 'to_x', 'to_y']]\n",
    "data"
   ]
  },
  {
   "cell_type": "code",
   "execution_count": 32,
   "metadata": {
    "deletable": false,
    "editable": false,
    "nbgrader": {
     "cell_type": "code",
     "checksum": "d800fd88737cb078d58a9327c6c03964",
     "grade": true,
     "grade_id": "problem_3_select_data_test",
     "locked": true,
     "points": 0.5,
     "schema_version": 3,
     "solution": false
    }
   },
   "outputs": [
    {
     "name": "stdout",
     "output_type": "stream",
     "text": [
      "['from_x', 'from_y', 'to_x', 'to_y']\n"
     ]
    }
   ],
   "source": [
    "# NON-EDITABLE CODE CELL FOR TESTING YOUR SOLUTION\n",
    "print(list(data.columns))"
   ]
  },
  {
   "cell_type": "markdown",
   "metadata": {
    "deletable": false,
    "editable": false,
    "nbgrader": {
     "cell_type": "markdown",
     "checksum": "0400ee5611c45628193bbd27a809eb21",
     "grade": false,
     "grade_id": "create_lists_instructions",
     "locked": true,
     "schema_version": 3,
     "solution": false
    }
   },
   "source": [
    "3: Create (two) empty lists for points called **`orig_points`** and **`dest_points`**\n"
   ]
  },
  {
   "cell_type": "code",
   "execution_count": 45,
   "metadata": {
    "deletable": false,
    "nbgrader": {
     "cell_type": "code",
     "checksum": "7a85ffa0e2baba3036386567b1f3681f",
     "grade": false,
     "grade_id": "create_lists",
     "locked": false,
     "schema_version": 3,
     "solution": true
    }
   },
   "outputs": [],
   "source": [
    "orig_points = []\n",
    "dest_points = []"
   ]
  },
  {
   "cell_type": "code",
   "execution_count": 46,
   "metadata": {
    "deletable": false,
    "editable": false,
    "nbgrader": {
     "cell_type": "code",
     "checksum": "948046d3f24b16cbd5f952e70044ca53",
     "grade": true,
     "grade_id": "problem_3_create_lists_test",
     "locked": true,
     "points": 0.5,
     "schema_version": 3,
     "solution": false
    }
   },
   "outputs": [
    {
     "name": "stdout",
     "output_type": "stream",
     "text": [
      "orig_points length: 0\n",
      "dest_points length: 0\n"
     ]
    }
   ],
   "source": [
    "# NON-EDITABLE CODE CELL FOR TESTING YOUR SOLUTION\n",
    "\n",
    "# List length should be zero at this point:\n",
    "print('orig_points length:', len(orig_points))\n",
    "print('dest_points length:', len(dest_points))"
   ]
  },
  {
   "cell_type": "markdown",
   "metadata": {
    "deletable": false,
    "editable": false,
    "nbgrader": {
     "cell_type": "markdown",
     "checksum": "daf1bd3dbdbe22893bf91232651a464d",
     "grade": false,
     "grade_id": "cell-386a63916905663b",
     "locked": true,
     "schema_version": 3,
     "solution": false
    }
   },
   "source": [
    "4: Create shapely points for each origin and destination and add origin points to `orig_points` list and destination points to `dest_points` list.\n",
    "\n",
    "**HOW?:**\n",
    "\n",
    "- Create a for-loop and iterate over the rows of your dataframe\n",
    "- For each row, create Shapely Point -objects based on the coordinate columns (columns `from_x` and `from_y` for the origins and columns `to_x` and `to_y` for the destinations)\n",
    "- Append the point objects into the **`orig_points`** -list and **`dest_point`** -list.\n",
    "\n",
    "See Geo-Python Lesson 6 materials [for iterating data frame fows](https://geo-python.github.io/site/notebooks/L6/pandas/advanced-data-processing-with-pandas.html#Iterating-rows-and-using-self-made-functions-in-Pandas) if you do not remember how to do it."
   ]
  },
  {
   "cell_type": "code",
   "execution_count": 47,
   "metadata": {
    "deletable": false,
    "nbgrader": {
     "cell_type": "code",
     "checksum": "0530ad411887be1095cc7be6df406b20",
     "grade": false,
     "grade_id": "create-points",
     "locked": false,
     "schema_version": 3,
     "solution": true
    }
   },
   "outputs": [],
   "source": [
    "from shapely.geometry import Point,LineString,Polygon\n",
    "\n",
    "for index, row in data.iterrows():\n",
    "    orig_points.append(Point(row['from_x'], row['from_y']))\n",
    "    dest_points.append(Point(row['to_x'], row['to_y']))\n",
    "    \n",
    "\n"
   ]
  },
  {
   "cell_type": "markdown",
   "metadata": {},
   "source": [
    "**NOTE: After you have solved this problem, we recommend that you restart the kernel and run all cells again! Otherwise you might append the same coordinates to the lists many times if you run the cell multiple times.**"
   ]
  },
  {
   "cell_type": "code",
   "execution_count": 48,
   "metadata": {
    "deletable": false,
    "editable": false,
    "nbgrader": {
     "cell_type": "code",
     "checksum": "9c0247dc36d9a97a1d229a92aae29d7e",
     "grade": true,
     "grade_id": "problem_3_create_points_test",
     "locked": true,
     "points": 3.5,
     "schema_version": 3,
     "solution": false
    }
   },
   "outputs": [
    {
     "name": "stdout",
     "output_type": "stream",
     "text": [
      "ORIGIN X Y: 24.9704379 60.3119173\n",
      "DESTINATION X Y: 24.8560344 60.3999406\n"
     ]
    }
   ],
   "source": [
    "# NON-EDITABLE CODE CELL FOR TESTING YOUR SOLUTION\n",
    "\n",
    "# This test print should print out the first origin and destination coordinates in the two lists:\n",
    "print(\"ORIGIN X Y:\", orig_points[0].x, orig_points[0].y)\n",
    "print(\"DESTINATION X Y:\", dest_points[0].x, dest_points[0].y)\n",
    "\n",
    "#Check that you created a correct amount of points:\n",
    "assert len(orig_points) == len(data), \"Number of origin points must be the same as number of rows in the original file\"\n",
    "assert len(dest_points) == len(data), \"Number of destination points must be the same as number of rows in the original file\""
   ]
  },
  {
   "cell_type": "markdown",
   "metadata": {
    "deletable": false,
    "editable": false,
    "nbgrader": {
     "cell_type": "markdown",
     "checksum": "9fb836b4d2fa949e3e0b2c2287850f94",
     "grade": false,
     "grade_id": "done_3",
     "locked": true,
     "schema_version": 3,
     "solution": false
    }
   },
   "source": [
    "\n",
    "- Upload the codes and edits to your **own** personal GitHub repository for Exercise-1 in AutoGIS-2018.\n",
    "\n",
    "## Done!\n",
    "\n",
    "That's it. Now you are ready to continue for the final Problem 4."
   ]
  },
  {
   "cell_type": "markdown",
   "metadata": {
    "deletable": false,
    "editable": false,
    "nbgrader": {
     "cell_type": "markdown",
     "checksum": "eee091a7921c44c0549e80d45f253fa4",
     "grade": false,
     "grade_id": "cell-9566ff76a1dc4a27",
     "locked": true,
     "schema_version": 3,
     "solution": false
    }
   },
   "source": [
    "## Problem 4: Creating LineStrings that represent the movements (*5 points*):\n",
    "\n",
    "This task continuous where we left in Problem 3. \n",
    "   \n",
    "1: Create a list called `lines`\n"
   ]
  },
  {
   "cell_type": "code",
   "execution_count": 50,
   "metadata": {
    "deletable": false,
    "nbgrader": {
     "cell_type": "code",
     "checksum": "0a6f186cfb0fd4f88ba583272e5f5365",
     "grade": false,
     "grade_id": "line_list",
     "locked": false,
     "schema_version": 3,
     "solution": true
    }
   },
   "outputs": [],
   "source": [
    "lines = []"
   ]
  },
  {
   "cell_type": "code",
   "execution_count": 51,
   "metadata": {
    "deletable": false,
    "editable": false,
    "nbgrader": {
     "cell_type": "code",
     "checksum": "8735d977c5e18f18218dc4657f037c9a",
     "grade": true,
     "grade_id": "problem_4_line_list_test",
     "locked": true,
     "points": 0.5,
     "schema_version": 3,
     "solution": false
    }
   },
   "outputs": [
    {
     "name": "stdout",
     "output_type": "stream",
     "text": [
      "lines length: 0\n"
     ]
    }
   ],
   "source": [
    "# NON-EDITABLE CODE CELL FOR TESTING YOUR SOLUTION\n",
    "\n",
    "# Lines length should be zero at this stage:\n",
    "print('lines length:', len(lines))"
   ]
  },
  {
   "cell_type": "markdown",
   "metadata": {},
   "source": [
    "2a: Iterate over the origin and destination lists and create a Shapely LineString -object between the origin and destination point\n",
    "\n",
    "  - Hint - Alternative 1: You can take advantage of `range()` function here that can help accessing the values from two lists at the same time.\n",
    "     \n",
    "  - Hint - Alternative 2: You can use `zip()` function to iterate over many lists at the same time. [See hints for this week](https://automating-gis-processes.github.io/2018/lessons/L1/ex-1.html#hints)\n",
    "  \n",
    "2b: Add the LineString into the `lines` -list.\n"
   ]
  },
  {
   "cell_type": "code",
   "execution_count": 53,
   "metadata": {
    "deletable": false,
    "nbgrader": {
     "cell_type": "code",
     "checksum": "3fde45f69600048c08480acd535528f5",
     "grade": false,
     "grade_id": "create_od_line",
     "locked": false,
     "schema_version": 3,
     "solution": true
    }
   },
   "outputs": [],
   "source": [
    "for orig, dest in zip(orig_points, dest_points):\n",
    "    line = LineString([orig,dest])\n",
    "    lines.append(line)\n",
    "    \n"
   ]
  },
  {
   "cell_type": "markdown",
   "metadata": {},
   "source": [
    "**NOTE: After you have solved this problem, we recommend that you restart the kernel and run all cells again! Otherwise you might append the same points to the lists many times if you run the cell multiple times.**"
   ]
  },
  {
   "cell_type": "code",
   "execution_count": 56,
   "metadata": {
    "deletable": false,
    "editable": false,
    "nbgrader": {
     "cell_type": "code",
     "checksum": "ce2c2d0fac45e351c78e4692379fcd46",
     "grade": true,
     "grade_id": "problem_4_create_od_line_test",
     "locked": true,
     "points": 2,
     "schema_version": 3,
     "solution": false
    }
   },
   "outputs": [],
   "source": [
    "# NON-EDITABLE CODE CELL FOR TESTING YOUR SOLUTION\n",
    "\n",
    "#Test that the list has correct number of LineStrings\n",
    "assert len(lines) == len(data), \"There should be as many lines as there are rows in the original data\""
   ]
  },
  {
   "cell_type": "markdown",
   "metadata": {},
   "source": [
    "3: Create a variable called **`total_length`**, and store the total (Euclidian) distance of all the origin-destination LineStrings that we just created into that variable.\n",
    "\n",
    "  - Hint: You might want to iterate over the lines and update the total lenght on each iteration.\n"
   ]
  },
  {
   "cell_type": "code",
   "execution_count": 65,
   "metadata": {
    "deletable": false,
    "nbgrader": {
     "cell_type": "code",
     "checksum": "7a6b59ceab2bf15d3d212beb38ae71b8",
     "grade": false,
     "grade_id": "euclidian_distance",
     "locked": false,
     "schema_version": 3,
     "solution": true
    }
   },
   "outputs": [],
   "source": [
    "total_length = 0\n",
    "for l in lines:\n",
    "    total_length = total_length + l.length\n"
   ]
  },
  {
   "cell_type": "code",
   "execution_count": 66,
   "metadata": {
    "deletable": false,
    "editable": false,
    "nbgrader": {
     "cell_type": "code",
     "checksum": "0dca3df4788b720523aaebe74b7c229d",
     "grade": true,
     "grade_id": "problem_4_euclidian_distance_test",
     "locked": true,
     "points": 1.5,
     "schema_version": 3,
     "solution": false
    }
   },
   "outputs": [
    {
     "name": "stdout",
     "output_type": "stream",
     "text": [
      "Total length of all lines is 3148.57\n"
     ]
    }
   ],
   "source": [
    "# NON-EDITABLE CODE CELL FOR TESTING YOUR SOLUTION\n",
    "\n",
    "# This test print should print the total length of all lines\n",
    "print(\"Total length of all lines is\", round(total_length, 2))"
   ]
  },
  {
   "cell_type": "markdown",
   "metadata": {},
   "source": [
    "4: write the previous parts, i.e. the creation of the LineString and calculating the total distance, into dedicated functions:  \n",
    "\n",
    "- `create_od_lines()`: Takes two lists of Shapely Point -objects as input and returns a list of LineStrings\n",
    "- `calculate_total_distance()`: Takes a list of LineString geometries as input and returs their total length\n",
    "\n",
    "You can copy and paste the codes you have written earlier into the functions. Below, you can find a code cell for testing your functions (you should get the same result as earler)."
   ]
  },
  {
   "cell_type": "code",
   "execution_count": 68,
   "metadata": {
    "deletable": false,
    "nbgrader": {
     "cell_type": "code",
     "checksum": "c9ce13d99356890172a07ac36ddb6b5d",
     "grade": false,
     "grade_id": "distance_function",
     "locked": false,
     "schema_version": 3,
     "solution": true,
     "task": false
    }
   },
   "outputs": [],
   "source": [
    "def create_od_lines(orig_points, dest_points):\n",
    "    lines = []\n",
    "    for orig, dest in zip(orig_points, dest_points):\n",
    "        line = LineString([orig,dest])\n",
    "        lines.append(line)\n",
    "    return lines\n",
    "\n",
    "def calculate_total_distance(lines):\n",
    "    total_length = 0\n",
    "    for l in lines:\n",
    "        total_length = total_length + l.length\n",
    "    return total_length\n",
    "\n"
   ]
  },
  {
   "cell_type": "code",
   "execution_count": 69,
   "metadata": {
    "deletable": false,
    "editable": false,
    "nbgrader": {
     "cell_type": "code",
     "checksum": "c0959b35931498039dd9e1ffee9be292",
     "grade": true,
     "grade_id": "problem_4_distance_function",
     "locked": true,
     "points": 1,
     "schema_version": 3,
     "solution": false,
     "task": false
    }
   },
   "outputs": [
    {
     "name": "stdout",
     "output_type": "stream",
     "text": [
      "Total distance 3148.57\n"
     ]
    }
   ],
   "source": [
    "# NON-EDITABLE CODE CELL FOR TESTING YOUR SOLUTION\n",
    "\n",
    "# Use the functions\n",
    "# -----------------\n",
    "\n",
    "# Create origin-destination lines\n",
    "od_lines = create_od_lines(orig_points, dest_points)\n",
    "\n",
    "# Calculate the total distance\n",
    "tot_dist = calculate_total_distance(od_lines)\n",
    "\n",
    "print(\"Total distance\", round(tot_dist,2))\n"
   ]
  },
  {
   "cell_type": "markdown",
   "metadata": {},
   "source": [
    "\n",
    "## All done!\n",
    "\n",
    "Awesome, now you have successfully practiced how geometries can be created in Python. Next week we will start using them actively."
   ]
  }
 ],
 "metadata": {
  "kernelspec": {
   "display_name": "Python 3",
   "language": "python",
   "name": "python3"
  },
  "language_info": {
   "codemirror_mode": {
    "name": "ipython",
    "version": 3
   },
   "file_extension": ".py",
   "mimetype": "text/x-python",
   "name": "python",
   "nbconvert_exporter": "python",
   "pygments_lexer": "ipython3",
   "version": "3.7.7"
  }
 },
 "nbformat": 4,
 "nbformat_minor": 2
}
