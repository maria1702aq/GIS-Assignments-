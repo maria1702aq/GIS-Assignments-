{
 "cells": [
  {
   "cell_type": "markdown",
   "metadata": {},
   "source": [
    "## Problem 1: Geocode shopping centers (5 points)\n",
    "\n",
    "The overall aim of problems 1-3 is to find out **how many people live within a walking distance (1.5 km) from certain shopping centers in Helsinki**.\n",
    "\n",
    "In problem 1 aim is to find out the addresses of shopping centers and to retreive numercal coordinates for these addresses. As an output, we will have a Shapefile called `shopping_centers.shp` which contains the geocoded result.\n",
    "\n",
    "**Preparation:** Find out the addresses for following shopping centers from the internet, and write the addresses into a text file called `shopping_centers.txt`:\n",
    "\n",
    " - Itis\n",
    " - Forum\n",
    " - Iso-omena\n",
    " - Sello\n",
    " - Jumbo\n",
    " - REDI\n",
    " - Tripla \n",
    " \n",
    " *Hint for \"Tripla\": This shopping center opened in October 10 2019, and if you are doing this exercise soon after that, the official address might not yet be in online databases. \n",
    " Check for an address nearby the Pasila railway station on OpenStreetMap.org and use that as input.*\n",
    "\n",
    "`shopping_centers.txt` should have semicolon (`;`) as a separator, and the file should include the following columns:\n",
    "\n",
    "- ``id`` (integer) containing an unique identifier for each shopping center\n",
    "- ``name`` (string) of each shopping center\n",
    "- ``addr`` (string) the address \n",
    "\n",
    "\n",
    "See and example of how to format the text file [in the lesson 3 materials](https://automating-gis-processes.github.io/site/master/notebooks/L3/geocoding_in_geopandas.html). Save (and upload) the text file into your exercise repository.\n",
    "\n",
    "- Read `shopping_centers.txt` that you just created into a pandas DataFrame called ``data``:"
   ]
  },
  {
   "cell_type": "code",
   "execution_count": 58,
   "metadata": {
    "deletable": false,
    "nbgrader": {
     "cell_type": "code",
     "checksum": "276d60ad6d7f474cc5214b8c85a0d5e4",
     "grade": false,
     "grade_id": "read_data",
     "locked": false,
     "schema_version": 3,
     "solution": true
    }
   },
   "outputs": [],
   "source": [
    "import pandas as pd\n",
    "\n",
    "data = pd.read_csv(r'C:\\Users\\Maria\\Desktop\\ISB\\GIS Course\\Exercise-3-master\\Exercise-3-master\\shopping_centers.txt', sep =';')\n"
   ]
  },
  {
   "cell_type": "code",
   "execution_count": 59,
   "metadata": {
    "deletable": false,
    "editable": false,
    "nbgrader": {
     "cell_type": "code",
     "checksum": "4e90dc0406dff7a0f4b0860443092087",
     "grade": true,
     "grade_id": "problem_1_read_data_tests",
     "locked": true,
     "points": 1,
     "schema_version": 3,
     "solution": false
    }
   },
   "outputs": [
    {
     "name": "stdout",
     "output_type": "stream",
     "text": [
      "     id       name                                             addr\n",
      "0  1000       Itis             Itäkatu 1-7, 00930 Helsinki, Finland\n",
      "1  1001      Forum   Mannerheimintie 14–20, 00100 Helsinki, Finland\n",
      "2  1002  Iso-omena            Piispansilta 11, 02230 Espoo, Finland\n",
      "3  1003      Sello        Leppävaarankatu 3-9, 02600 Espoo, Finland\n",
      "4  1004      Jumbo       Vantaanportinkatu 3, 01510 Vantaa, Finland\n",
      "5  1005       REDI    Hermannin rantatie 5, 00580 Helsinki, Finland\n",
      "6  1006     Tripla          Ratapihantie 6, 00520 Helsinki, Finland\n"
     ]
    }
   ],
   "source": [
    "#NON-EDITABLE TEST CELL\n",
    "# Check your input data\n",
    "print(data)"
   ]
  },
  {
   "cell_type": "markdown",
   "metadata": {},
   "source": [
    "- Geocode the addresses using the Nominatim geocoding service. Store the output in a variable called `geo`:"
   ]
  },
  {
   "cell_type": "code",
   "execution_count": 60,
   "metadata": {
    "deletable": false,
    "nbgrader": {
     "cell_type": "code",
     "checksum": "263051ed5136dfe8571b4fb4b4d46019",
     "grade": false,
     "grade_id": "geocode",
     "locked": false,
     "schema_version": 3,
     "solution": true
    }
   },
   "outputs": [],
   "source": [
    "from geopandas.tools import geocode\n",
    "\n",
    "geo = geocode(data[' addr'],provider='nominatim', user_agent='autogis_ms', timeout=10) "
   ]
  },
  {
   "cell_type": "code",
   "execution_count": 61,
   "metadata": {
    "deletable": false,
    "editable": false,
    "nbgrader": {
     "cell_type": "code",
     "checksum": "a3b8c4fef69c89dbb3299b84c11d3db7",
     "grade": true,
     "grade_id": "problem_1_gdf_test",
     "locked": true,
     "points": 1,
     "schema_version": 3,
     "solution": false,
     "task": false
    }
   },
   "outputs": [
    {
     "name": "stdout",
     "output_type": "stream",
     "text": [
      "                    geometry  \\\n",
      "0  POINT (25.08294 60.21170)   \n",
      "1  POINT (24.93828 60.16878)   \n",
      "2  POINT (24.73907 60.16091)   \n",
      "3  POINT (24.81187 60.21823)   \n",
      "4  POINT (24.96282 60.29245)   \n",
      "5  POINT (24.98072 60.18731)   \n",
      "6  POINT (24.93435 60.19857)   \n",
      "\n",
      "                                             address  \n",
      "0  Kauppakeskus Itis, Itäkatu, Itäkeskus, Vartiok...  \n",
      "1  Salaattiasema, Mannerheimintie, Keskusta, Kluu...  \n",
      "2  11, Piispansilta, Nuottaniemi, Piispansilta, E...  \n",
      "3  3-9, Leppävaarankatu, Etelä-Leppävaara, Leppäv...  \n",
      "4  Stockmann, Vantaanportinkatu, Pakkala, Aviapol...  \n",
      "5  XXL Redi, Hermannin rantatie, Kalasatama, Sörn...  \n",
      "6  6, Ratapihantie, Itä-Pasila, Pasila, Helsinki,...  \n"
     ]
    }
   ],
   "source": [
    "#NON-EDITABLE TEST CELL\n",
    "# Check the geocoded output\n",
    "print(geo)"
   ]
  },
  {
   "cell_type": "code",
   "execution_count": 62,
   "metadata": {
    "deletable": false,
    "editable": false,
    "nbgrader": {
     "cell_type": "code",
     "checksum": "f2e432e605330a668b5bfdbbbd12569e",
     "grade": true,
     "grade_id": "problem_1_geocode_tests",
     "locked": true,
     "points": 1,
     "schema_version": 3,
     "solution": false
    }
   },
   "outputs": [
    {
     "name": "stdout",
     "output_type": "stream",
     "text": [
      "<class 'geopandas.geodataframe.GeoDataFrame'>\n"
     ]
    }
   ],
   "source": [
    "#NON-EDITABLE TEST CELL\n",
    "# Check the data type (should be a GeoDataFrame!)\n",
    "print(type(geo))"
   ]
  },
  {
   "cell_type": "markdown",
   "metadata": {},
   "source": [
    "Check that the coordinate reference system of the geocoded result is correctly defined, and **reproject the layer into ETRS GK-25** (EPSG:3879):"
   ]
  },
  {
   "cell_type": "code",
   "execution_count": 63,
   "metadata": {
    "deletable": false,
    "nbgrader": {
     "cell_type": "code",
     "checksum": "472a4283af2c3532f40db1caa56100a7",
     "grade": false,
     "grade_id": "crs",
     "locked": false,
     "schema_version": 3,
     "solution": true
    }
   },
   "outputs": [],
   "source": [
    "geo = geo.to_crs(epsg=3879)"
   ]
  },
  {
   "cell_type": "code",
   "execution_count": 64,
   "metadata": {
    "deletable": false,
    "editable": false,
    "nbgrader": {
     "cell_type": "code",
     "checksum": "764cba257612241267e3b2bcc90b5dcd",
     "grade": true,
     "grade_id": "problem_1_crs_test",
     "locked": true,
     "points": 0.5,
     "schema_version": 3,
     "solution": false
    }
   },
   "outputs": [
    {
     "name": "stdout",
     "output_type": "stream",
     "text": [
      "epsg:3879\n"
     ]
    }
   ],
   "source": [
    "#NON-EDITABLE TEST CELL\n",
    "# Check layer crs\n",
    "print(geo.crs)"
   ]
  },
  {
   "cell_type": "markdown",
   "metadata": {},
   "source": [
    "- Make a table join between the geocoded addresses (``geo``) and the original addresses (``data``) in order to link the numerical coordinates and  the `id` and `name` of each shopping center. \n",
    "- Store the output in a variable called ``geodata`` \n"
   ]
  },
  {
   "cell_type": "code",
   "execution_count": 65,
   "metadata": {
    "deletable": false,
    "nbgrader": {
     "cell_type": "code",
     "checksum": "e5981729844bc6f2bca05c1a615c0f0e",
     "grade": false,
     "grade_id": "join",
     "locked": false,
     "schema_version": 3,
     "solution": true
    }
   },
   "outputs": [],
   "source": [
    "geodata = geo.join(data)"
   ]
  },
  {
   "cell_type": "code",
   "execution_count": 66,
   "metadata": {
    "deletable": false,
    "editable": false,
    "nbgrader": {
     "cell_type": "code",
     "checksum": "98d25baeb42eaeb2701f09f42c8c84c5",
     "grade": true,
     "grade_id": "problem_1_join_test",
     "locked": true,
     "points": 1,
     "schema_version": 3,
     "solution": false
    }
   },
   "outputs": [
    {
     "name": "stdout",
     "output_type": "stream",
     "text": [
      "                           geometry  \\\n",
      "0  POINT (25504598.602 6677662.109)   \n",
      "1  POINT (25496573.542 6672878.360)   \n",
      "2  POINT (25485510.634 6672029.255)   \n",
      "3  POINT (25489571.409 6678401.654)   \n",
      "4  POINT (25497943.932 6686656.982)   \n",
      "\n",
      "                                             address    id       name  \\\n",
      "0  Kauppakeskus Itis, Itäkatu, Itäkeskus, Vartiok...  1000       Itis   \n",
      "1  Salaattiasema, Mannerheimintie, Keskusta, Kluu...  1001      Forum   \n",
      "2  11, Piispansilta, Nuottaniemi, Piispansilta, E...  1002  Iso-omena   \n",
      "3  3-9, Leppävaarankatu, Etelä-Leppävaara, Leppäv...  1003      Sello   \n",
      "4  Stockmann, Vantaanportinkatu, Pakkala, Aviapol...  1004      Jumbo   \n",
      "\n",
      "                                              addr  \n",
      "0             Itäkatu 1-7, 00930 Helsinki, Finland  \n",
      "1   Mannerheimintie 14–20, 00100 Helsinki, Finland  \n",
      "2            Piispansilta 11, 02230 Espoo, Finland  \n",
      "3        Leppävaarankatu 3-9, 02600 Espoo, Finland  \n",
      "4       Vantaanportinkatu 3, 01510 Vantaa, Finland  \n"
     ]
    }
   ],
   "source": [
    "#NON-EDITABLE TEST CELL\n",
    "# Check the join output\n",
    "print(geodata.head())"
   ]
  },
  {
   "cell_type": "markdown",
   "metadata": {},
   "source": [
    "- Save the output as a Shapefile called `shopping_centers.shp` "
   ]
  },
  {
   "cell_type": "code",
   "execution_count": 20,
   "metadata": {
    "deletable": false,
    "nbgrader": {
     "cell_type": "code",
     "checksum": "b629dc394afb0d2df49c16b3dd227f50",
     "grade": false,
     "grade_id": "save_data",
     "locked": false,
     "schema_version": 3,
     "solution": true
    }
   },
   "outputs": [],
   "source": [
    "out_fp = r'C:\\Users\\Maria\\Desktop\\ISB\\GIS Course\\Exercise-3-master\\Exercise-3-master\\shopping_centers.shp'\n",
    "geodata.to_file(out_fp)"
   ]
  },
  {
   "cell_type": "code",
   "execution_count": 67,
   "metadata": {
    "deletable": false,
    "editable": false,
    "nbgrader": {
     "cell_type": "code",
     "checksum": "80aac786841c50c2fd08ca078bc13a56",
     "grade": true,
     "grade_id": "problem_1_save_data_test",
     "locked": true,
     "points": 0.5,
     "schema_version": 3,
     "solution": false
    }
   },
   "outputs": [
    {
     "name": "stdout",
     "output_type": "stream",
     "text": [
      "Geocoded output is stored in this file: C:\\Users\\Maria\\Desktop\\ISB\\GIS Course\\Exercise-3-master\\Exercise-3-master\\shopping_centers.shp\n"
     ]
    }
   ],
   "source": [
    "#NON-EDITABLE TEST CELL\n",
    "# Print info about output file\n",
    "print(\"Geocoded output is stored in this file:\", out_fp)"
   ]
  },
  {
   "cell_type": "markdown",
   "metadata": {},
   "source": [
    "## Problem 2: Create buffers around shopping centers (5 points)\n",
    "\n",
    "Let's continue with our case study and calculate a 1.5 km buffer around the geocoded points. \n",
    "\n",
    "\n",
    "- Start by creating a new column called `buffer` to ``geodata`` GeoDataFrame:"
   ]
  },
  {
   "cell_type": "code",
   "execution_count": 68,
   "metadata": {
    "deletable": false,
    "nbgrader": {
     "cell_type": "code",
     "checksum": "9c602979bc0a9135d9ea750b6a0da28b",
     "grade": false,
     "grade_id": "new_column",
     "locked": false,
     "schema_version": 3,
     "solution": true
    }
   },
   "outputs": [],
   "source": [
    "import geopandas as gpd\n",
    "buffer = []"
   ]
  },
  {
   "cell_type": "markdown",
   "metadata": {},
   "source": [
    "- Calculate a 1.5 km buffer for each geocoded point. Store the buffer geometry in the new `buffer` column.\n",
    "\n",
    "Here, you can use the [GeoDataFrame buffer() method](http://geopandas.org/geometric_manipulations.html#GeoSeries.buffer), which uses Shapely's [buffer](http://toblerity.org/shapely/manual.html#object.buffer) in the bacground. You only need to use the `distance` -parameter, don't worry about the other parameters."
   ]
  },
  {
   "cell_type": "code",
   "execution_count": 69,
   "metadata": {
    "deletable": false,
    "nbgrader": {
     "cell_type": "code",
     "checksum": "7ab6ebd4853d746e89d6f8dcdb569c99",
     "grade": false,
     "grade_id": "buffer",
     "locked": false,
     "schema_version": 3,
     "solution": true
    }
   },
   "outputs": [],
   "source": [
    "buffer = geodata.buffer(1500)\n",
    "geodata['buffer'] = buffer\n"
   ]
  },
  {
   "cell_type": "code",
   "execution_count": 70,
   "metadata": {
    "deletable": false,
    "editable": false,
    "nbgrader": {
     "cell_type": "code",
     "checksum": "e2765a36c4eb2331624d3b990eccfe9f",
     "grade": true,
     "grade_id": "problem_2_column_test",
     "locked": true,
     "points": 1,
     "schema_version": 3,
     "solution": false,
     "task": false
    }
   },
   "outputs": [
    {
     "name": "stdout",
     "output_type": "stream",
     "text": [
      "                           geometry  \\\n",
      "0  POINT (25504598.602 6677662.109)   \n",
      "1  POINT (25496573.542 6672878.360)   \n",
      "2  POINT (25485510.634 6672029.255)   \n",
      "3  POINT (25489571.409 6678401.654)   \n",
      "4  POINT (25497943.932 6686656.982)   \n",
      "\n",
      "                                             address    id       name  \\\n",
      "0  Kauppakeskus Itis, Itäkatu, Itäkeskus, Vartiok...  1000       Itis   \n",
      "1  Salaattiasema, Mannerheimintie, Keskusta, Kluu...  1001      Forum   \n",
      "2  11, Piispansilta, Nuottaniemi, Piispansilta, E...  1002  Iso-omena   \n",
      "3  3-9, Leppävaarankatu, Etelä-Leppävaara, Leppäv...  1003      Sello   \n",
      "4  Stockmann, Vantaanportinkatu, Pakkala, Aviapol...  1004      Jumbo   \n",
      "\n",
      "                                              addr  \\\n",
      "0             Itäkatu 1-7, 00930 Helsinki, Finland   \n",
      "1   Mannerheimintie 14–20, 00100 Helsinki, Finland   \n",
      "2            Piispansilta 11, 02230 Espoo, Finland   \n",
      "3        Leppävaarankatu 3-9, 02600 Espoo, Finland   \n",
      "4       Vantaanportinkatu 3, 01510 Vantaa, Finland   \n",
      "\n",
      "                                              buffer  \n",
      "0  POLYGON ((25506098.602 6677662.109, 25506091.3...  \n",
      "1  POLYGON ((25498073.542 6672878.360, 25498066.3...  \n",
      "2  POLYGON ((25487010.634 6672029.255, 25487003.4...  \n",
      "3  POLYGON ((25491071.409 6678401.654, 25491064.1...  \n",
      "4  POLYGON ((25499443.932 6686656.982, 25499436.7...  \n"
     ]
    }
   ],
   "source": [
    "#NON-EDITABLE TEST CELL\n",
    "print(geodata.head())"
   ]
  },
  {
   "cell_type": "code",
   "execution_count": 71,
   "metadata": {
    "deletable": false,
    "editable": false,
    "nbgrader": {
     "cell_type": "code",
     "checksum": "3aa92b08ec2320d792f9de905622df3d",
     "grade": true,
     "grade_id": "problem_2_shape_test",
     "locked": true,
     "points": 1,
     "schema_version": 3,
     "solution": false,
     "task": false
    }
   },
   "outputs": [
    {
     "name": "stdout",
     "output_type": "stream",
     "text": [
      "<class 'shapely.geometry.polygon.Polygon'>\n"
     ]
    }
   ],
   "source": [
    "#NON-EDITABLE TEST CELL\n",
    "# Check the data type of the first value in the buffer-column\n",
    "print(type(geodata.at[0,'buffer']))"
   ]
  },
  {
   "cell_type": "code",
   "execution_count": 72,
   "metadata": {
    "deletable": false,
    "editable": false,
    "nbgrader": {
     "cell_type": "code",
     "checksum": "d6e0fe9059fff655e76e4ca36a024253",
     "grade": true,
     "grade_id": "problem_2_buffer_test",
     "locked": true,
     "points": 2,
     "schema_version": 3,
     "solution": false
    }
   },
   "outputs": [
    {
     "name": "stdout",
     "output_type": "stream",
     "text": [
      "0    7.0\n",
      "1    7.0\n",
      "2    7.0\n",
      "3    7.0\n",
      "4    7.0\n",
      "5    7.0\n",
      "6    7.0\n",
      "dtype: float64\n"
     ]
    }
   ],
   "source": [
    "#NON-EDITABLE TEST CELL\n",
    "# Check the areas of your buffers in km^2\n",
    "print(round(gpd.GeoSeries(geodata[\"buffer\"]).area / 1000000))"
   ]
  },
  {
   "cell_type": "markdown",
   "metadata": {},
   "source": [
    "- Replace the values in `geometry` column with the values of `buffer` column:"
   ]
  },
  {
   "cell_type": "code",
   "execution_count": 73,
   "metadata": {
    "deletable": false,
    "nbgrader": {
     "cell_type": "code",
     "checksum": "bdecc7b62de965a4d86ecccf28de49b2",
     "grade": false,
     "grade_id": "geometry",
     "locked": false,
     "schema_version": 3,
     "solution": true
    }
   },
   "outputs": [],
   "source": [
    "geodata['geometry'] = buffer"
   ]
  },
  {
   "cell_type": "code",
   "execution_count": 74,
   "metadata": {
    "deletable": false,
    "editable": false,
    "nbgrader": {
     "cell_type": "code",
     "checksum": "47a972c42e423c1597440885fa571d34",
     "grade": true,
     "grade_id": "problem_2_geometry_test",
     "locked": true,
     "points": 1,
     "schema_version": 3,
     "solution": false
    }
   },
   "outputs": [
    {
     "name": "stdout",
     "output_type": "stream",
     "text": [
      "                                            geometry  \\\n",
      "0  POLYGON ((25506098.602 6677662.109, 25506091.3...   \n",
      "1  POLYGON ((25498073.542 6672878.360, 25498066.3...   \n",
      "2  POLYGON ((25487010.634 6672029.255, 25487003.4...   \n",
      "3  POLYGON ((25491071.409 6678401.654, 25491064.1...   \n",
      "4  POLYGON ((25499443.932 6686656.982, 25499436.7...   \n",
      "\n",
      "                                             address    id       name  \\\n",
      "0  Kauppakeskus Itis, Itäkatu, Itäkeskus, Vartiok...  1000       Itis   \n",
      "1  Salaattiasema, Mannerheimintie, Keskusta, Kluu...  1001      Forum   \n",
      "2  11, Piispansilta, Nuottaniemi, Piispansilta, E...  1002  Iso-omena   \n",
      "3  3-9, Leppävaarankatu, Etelä-Leppävaara, Leppäv...  1003      Sello   \n",
      "4  Stockmann, Vantaanportinkatu, Pakkala, Aviapol...  1004      Jumbo   \n",
      "\n",
      "                                              addr  \\\n",
      "0             Itäkatu 1-7, 00930 Helsinki, Finland   \n",
      "1   Mannerheimintie 14–20, 00100 Helsinki, Finland   \n",
      "2            Piispansilta 11, 02230 Espoo, Finland   \n",
      "3        Leppävaarankatu 3-9, 02600 Espoo, Finland   \n",
      "4       Vantaanportinkatu 3, 01510 Vantaa, Finland   \n",
      "\n",
      "                                              buffer  \n",
      "0  POLYGON ((25506098.602 6677662.109, 25506091.3...  \n",
      "1  POLYGON ((25498073.542 6672878.360, 25498066.3...  \n",
      "2  POLYGON ((25487010.634 6672029.255, 25487003.4...  \n",
      "3  POLYGON ((25491071.409 6678401.654, 25491064.1...  \n",
      "4  POLYGON ((25499443.932 6686656.982, 25499436.7...  \n"
     ]
    }
   ],
   "source": [
    "#NON-EDITABLE TEST CELL\n",
    "print(geodata.head())"
   ]
  },
  {
   "cell_type": "markdown",
   "metadata": {},
   "source": [
    "Optional: at this point, you can drop out unnecessary columns from the geodataframe. In the next problem, \n",
    "we will only need these columns: `'id', 'name', 'geometry'`"
   ]
  },
  {
   "cell_type": "code",
   "execution_count": 75,
   "metadata": {},
   "outputs": [
    {
     "data": {
      "text/html": [
       "<div>\n",
       "<style scoped>\n",
       "    .dataframe tbody tr th:only-of-type {\n",
       "        vertical-align: middle;\n",
       "    }\n",
       "\n",
       "    .dataframe tbody tr th {\n",
       "        vertical-align: top;\n",
       "    }\n",
       "\n",
       "    .dataframe thead th {\n",
       "        text-align: right;\n",
       "    }\n",
       "</style>\n",
       "<table border=\"1\" class=\"dataframe\">\n",
       "  <thead>\n",
       "    <tr style=\"text-align: right;\">\n",
       "      <th></th>\n",
       "      <th>geometry</th>\n",
       "      <th>id</th>\n",
       "      <th>name</th>\n",
       "    </tr>\n",
       "  </thead>\n",
       "  <tbody>\n",
       "    <tr>\n",
       "      <th>0</th>\n",
       "      <td>POLYGON ((25506098.602 6677662.109, 25506091.3...</td>\n",
       "      <td>1000</td>\n",
       "      <td>Itis</td>\n",
       "    </tr>\n",
       "    <tr>\n",
       "      <th>1</th>\n",
       "      <td>POLYGON ((25498073.542 6672878.360, 25498066.3...</td>\n",
       "      <td>1001</td>\n",
       "      <td>Forum</td>\n",
       "    </tr>\n",
       "    <tr>\n",
       "      <th>2</th>\n",
       "      <td>POLYGON ((25487010.634 6672029.255, 25487003.4...</td>\n",
       "      <td>1002</td>\n",
       "      <td>Iso-omena</td>\n",
       "    </tr>\n",
       "    <tr>\n",
       "      <th>3</th>\n",
       "      <td>POLYGON ((25491071.409 6678401.654, 25491064.1...</td>\n",
       "      <td>1003</td>\n",
       "      <td>Sello</td>\n",
       "    </tr>\n",
       "    <tr>\n",
       "      <th>4</th>\n",
       "      <td>POLYGON ((25499443.932 6686656.982, 25499436.7...</td>\n",
       "      <td>1004</td>\n",
       "      <td>Jumbo</td>\n",
       "    </tr>\n",
       "    <tr>\n",
       "      <th>5</th>\n",
       "      <td>POLYGON ((25500430.407 6674941.797, 25500423.1...</td>\n",
       "      <td>1005</td>\n",
       "      <td>REDI</td>\n",
       "    </tr>\n",
       "    <tr>\n",
       "      <th>6</th>\n",
       "      <td>POLYGON ((25497858.800 6676198.280, 25497851.5...</td>\n",
       "      <td>1006</td>\n",
       "      <td>Tripla</td>\n",
       "    </tr>\n",
       "  </tbody>\n",
       "</table>\n",
       "</div>"
      ],
      "text/plain": [
       "                                            geometry    id       name\n",
       "0  POLYGON ((25506098.602 6677662.109, 25506091.3...  1000       Itis\n",
       "1  POLYGON ((25498073.542 6672878.360, 25498066.3...  1001      Forum\n",
       "2  POLYGON ((25487010.634 6672029.255, 25487003.4...  1002  Iso-omena\n",
       "3  POLYGON ((25491071.409 6678401.654, 25491064.1...  1003      Sello\n",
       "4  POLYGON ((25499443.932 6686656.982, 25499436.7...  1004      Jumbo\n",
       "5  POLYGON ((25500430.407 6674941.797, 25500423.1...  1005       REDI\n",
       "6  POLYGON ((25497858.800 6676198.280, 25497851.5...  1006     Tripla"
      ]
     },
     "execution_count": 75,
     "metadata": {},
     "output_type": "execute_result"
    }
   ],
   "source": [
    "geodata = geodata.drop(['buffer','address',' addr'], axis = 1)\n",
    "geodata"
   ]
  },
  {
   "cell_type": "markdown",
   "metadata": {},
   "source": [
    "## Problem 3: How many people live near shopping centers? (5 points)\n",
    "\n",
    "Last step in our analysis is to make a spatial join between our buffer layer and population data in order to find out **how many people live near each shopping center**. We will use the same data as we did during [lesson 3](https://automating-gis-processes.github.io/site/notebooks/L3/spatial-join.html#Spatial-join); **a Population Grid** that is available via the HSY wfs. \n",
    "\n",
    "Alternatively, you can also download the data from the [Helsinki Region Infoshare (HRI)](https://www.hsy.fi/fi/asiantuntijalle/avoindata/Sivut/AvoinData.aspx?dataID=7) as a shapefile (using wget).\n",
    "\n",
    "The coordinate reference system of the population grid is **ETRS GK-25 (EPSG:3879)**.\n",
    "\n",
    "\n",
    "**Steps:**\n",
    "\n",
    "- Read the population grid into a geodataframe\n",
    "\n",
    "- Select only the useful columns from the population grid: ``'asukkaita'`` (=population count per grid square) and ``'geometry'`` \n",
    "\n",
    "- Make a spatial join between your buffered point layer and population grid layer. Join the information now from buffer layer **into the population grid layer**\n",
    "\n",
    "- Group the joined layer by shopping center index\n",
    "\n",
    "- Calculate the sum of population living within 1.5 km for each shopping center.\n",
    "\n",
    "**Finally:**\n",
    "\n",
    "- Print out the population living within 1.5 km from each shopping center:\n",
    "\n",
    "     - Itis\n",
    "     - Forum\n",
    "     - Iso-omena\n",
    "     - Sello\n",
    "     - Jumbo\n",
    "     - REDI\n",
    "     - Tripla\n",
    "     \n",
    "**Final print out should contain both the shopping center name and population count**, for example: `25858 people live within 1.5 km from Iso-Omena`.\n",
    "\n",
    "*Feel free to divide your solution into several codeblocks! Remember to comment your code  :)*"
   ]
  },
  {
   "cell_type": "code",
   "execution_count": 76,
   "metadata": {
    "deletable": false,
    "nbgrader": {
     "cell_type": "code",
     "checksum": "ce4513d664d7851d8da8b9d648b75bf7",
     "grade": false,
     "grade_id": "read_wfs",
     "locked": false,
     "schema_version": 3,
     "solution": true,
     "task": false
    }
   },
   "outputs": [],
   "source": [
    "# Read population grid data for 2018 into a variable `pop`. \n",
    "# Remember to check the crs info! \n",
    "\n",
    "from pyproj import CRS\n",
    "import requests\n",
    "import geojson\n",
    "\n",
    "# Specify the url for web feature service\n",
    "url = 'https://kartta.hsy.fi/geoserver/wfs'\n",
    "\n",
    "# Specify parameters (read data in json format).\n",
    "# Available feature types in this particular data source: http://geo.stat.fi/geoserver/vaestoruutu/wfs?service=wfs&version=2.0.0&request=describeFeatureType\n",
    "params = dict(service='WFS',\n",
    "              version='2.0.0',\n",
    "              request='GetFeature',\n",
    "              typeName='asuminen_ja_maankaytto:Vaestotietoruudukko_2018',\n",
    "              outputFormat='json')\n",
    "\n",
    "# Fetch data from WFS using requests\n",
    "r = requests.get(url, params=params)\n",
    "\n",
    "# Create GeoDataFrame from geojson\n",
    "pop = gpd.GeoDataFrame.from_features(geojson.loads(r.content))"
   ]
  },
  {
   "cell_type": "code",
   "execution_count": 82,
   "metadata": {},
   "outputs": [],
   "source": [
    "pop = pop[['geometry','asukkaita']]"
   ]
  },
  {
   "cell_type": "code",
   "execution_count": 84,
   "metadata": {
    "deletable": false,
    "editable": false,
    "nbgrader": {
     "cell_type": "code",
     "checksum": "8fe4f1ecd4466cf975714202c832be7e",
     "grade": true,
     "grade_id": "problem_3_read_data_test",
     "locked": true,
     "points": 1,
     "schema_version": 3,
     "solution": false,
     "task": false
    }
   },
   "outputs": [
    {
     "name": "stdout",
     "output_type": "stream",
     "text": [
      "Number of rows: 3167\n",
      "                                            geometry  asukkaita\n",
      "0  MULTIPOLYGON Z (((25476499.999 6674248.999 0.0...        108\n",
      "1  MULTIPOLYGON Z (((25476749.997 6674498.998 0.0...        273\n",
      "2  MULTIPOLYGON Z (((25476999.994 6675749.004 0.0...        239\n"
     ]
    }
   ],
   "source": [
    "#NON-EDITABLE TEST CELL\n",
    "# Check your input data\n",
    "print(\"Number of rows:\", len(pop))\n",
    "print(pop.head(3))"
   ]
  },
  {
   "cell_type": "code",
   "execution_count": 87,
   "metadata": {},
   "outputs": [],
   "source": [
    "pop.crs = CRS.from_epsg(3879).to_wkt()"
   ]
  },
  {
   "cell_type": "code",
   "execution_count": 89,
   "metadata": {},
   "outputs": [
    {
     "data": {
      "text/plain": [
       "True"
      ]
     },
     "execution_count": 89,
     "metadata": {},
     "output_type": "execute_result"
    }
   ],
   "source": [
    "pop.crs == geodata.crs"
   ]
  },
  {
   "cell_type": "code",
   "execution_count": 93,
   "metadata": {
    "deletable": false,
    "nbgrader": {
     "cell_type": "code",
     "checksum": "6e1a19296e4d4bbdd868d231ed20505b",
     "grade": false,
     "grade_id": "spatial_join",
     "locked": false,
     "schema_version": 3,
     "solution": true
    }
   },
   "outputs": [],
   "source": [
    "# Create a spatial join between grid layer and buffer layer. \n",
    "\n",
    "join = gpd.sjoin(geodata, pop)"
   ]
  },
  {
   "cell_type": "code",
   "execution_count": 99,
   "metadata": {},
   "outputs": [],
   "source": [
    "grouped = join.groupby('name')"
   ]
  },
  {
   "cell_type": "code",
   "execution_count": 105,
   "metadata": {},
   "outputs": [
    {
     "data": {
      "text/html": [
       "<div>\n",
       "<style scoped>\n",
       "    .dataframe tbody tr th:only-of-type {\n",
       "        vertical-align: middle;\n",
       "    }\n",
       "\n",
       "    .dataframe tbody tr th {\n",
       "        vertical-align: top;\n",
       "    }\n",
       "\n",
       "    .dataframe thead th {\n",
       "        text-align: right;\n",
       "    }\n",
       "</style>\n",
       "<table border=\"1\" class=\"dataframe\">\n",
       "  <thead>\n",
       "    <tr style=\"text-align: right;\">\n",
       "      <th></th>\n",
       "      <th>id</th>\n",
       "      <th>index_right</th>\n",
       "      <th>asukkaita</th>\n",
       "    </tr>\n",
       "    <tr>\n",
       "      <th>name</th>\n",
       "      <th></th>\n",
       "      <th></th>\n",
       "      <th></th>\n",
       "    </tr>\n",
       "  </thead>\n",
       "  <tbody>\n",
       "    <tr>\n",
       "      <th>REDI</th>\n",
       "      <td>46230</td>\n",
       "      <td>86852</td>\n",
       "      <td>39190</td>\n",
       "    </tr>\n",
       "    <tr>\n",
       "      <th>Sello</th>\n",
       "      <td>68204</td>\n",
       "      <td>62963</td>\n",
       "      <td>27053</td>\n",
       "    </tr>\n",
       "    <tr>\n",
       "      <th>Tripla</th>\n",
       "      <td>69414</td>\n",
       "      <td>113904</td>\n",
       "      <td>44800</td>\n",
       "    </tr>\n",
       "    <tr>\n",
       "      <th>Forum</th>\n",
       "      <td>90090</td>\n",
       "      <td>149206</td>\n",
       "      <td>78018</td>\n",
       "    </tr>\n",
       "    <tr>\n",
       "      <th>Iso-omena</th>\n",
       "      <td>93186</td>\n",
       "      <td>48533</td>\n",
       "      <td>33295</td>\n",
       "    </tr>\n",
       "    <tr>\n",
       "      <th>Itis</th>\n",
       "      <td>85000</td>\n",
       "      <td>237480</td>\n",
       "      <td>27951</td>\n",
       "    </tr>\n",
       "    <tr>\n",
       "      <th>Jumbo</th>\n",
       "      <td>27108</td>\n",
       "      <td>47839</td>\n",
       "      <td>10317</td>\n",
       "    </tr>\n",
       "  </tbody>\n",
       "</table>\n",
       "</div>"
      ],
      "text/plain": [
       "              id  index_right  asukkaita\n",
       "name                                    \n",
       " REDI      46230        86852      39190\n",
       " Sello     68204        62963      27053\n",
       " Tripla    69414       113904      44800\n",
       "Forum      90090       149206      78018\n",
       "Iso-omena  93186        48533      33295\n",
       "Itis       85000       237480      27951\n",
       "Jumbo      27108        47839      10317"
      ]
     },
     "execution_count": 105,
     "metadata": {},
     "output_type": "execute_result"
    }
   ],
   "source": [
    "grouped.sum()"
   ]
  },
  {
   "cell_type": "code",
   "execution_count": 107,
   "metadata": {
    "deletable": false,
    "nbgrader": {
     "cell_type": "code",
     "checksum": "31380c3846a2b817d025fdd218289113",
     "grade": false,
     "grade_id": "print_results",
     "locked": false,
     "schema_version": 3,
     "solution": true,
     "task": false
    }
   },
   "outputs": [
    {
     "name": "stdout",
     "output_type": "stream",
     "text": [
      "39190  people live within 1.5 km from   REDI\n",
      "27053  people live within 1.5 km from   Sello\n",
      "44800  people live within 1.5 km from   Tripla\n",
      "78018  people live within 1.5 km from  Forum\n",
      "33295  people live within 1.5 km from  Iso-omena\n",
      "27951  people live within 1.5 km from  Itis\n",
      "10317  people live within 1.5 km from  Jumbo\n"
     ]
    }
   ],
   "source": [
    "# Report how many people live within 1.5 km distance from each shopping center\n",
    "\n",
    "for index,row in grouped.sum().iterrows():\n",
    "    print(row['asukkaita'],' people live within 1.5 km from ',index)"
   ]
  },
  {
   "cell_type": "markdown",
   "metadata": {
    "collapsed": true
   },
   "source": [
    "**Reflections:**\n",
    "    \n",
    "- How challenging did you find problems 1-3 (on scale to 1-5), and why?\n",
    "- What was easy?\n",
    "- What was difficult?"
   ]
  },
  {
   "cell_type": "markdown",
   "metadata": {
    "deletable": false,
    "nbgrader": {
     "cell_type": "markdown",
     "checksum": "ae8c161a5ec09a095453240cd41b6da8",
     "grade": true,
     "grade_id": "problem_3_Check_problem_3",
     "locked": false,
     "points": 4,
     "schema_version": 3,
     "solution": true
    }
   },
   "source": [
    "YOUR ANSWER HERE"
   ]
  },
  {
   "cell_type": "markdown",
   "metadata": {},
   "source": [
    "Well done! Now you can continue to [problem 4](Exercise-3-Problem-4.ipynb)"
   ]
  }
 ],
 "metadata": {
  "anaconda-cloud": {},
  "kernelspec": {
   "display_name": "Python 3",
   "language": "python",
   "name": "python3"
  },
  "language_info": {
   "codemirror_mode": {
    "name": "ipython",
    "version": 3
   },
   "file_extension": ".py",
   "mimetype": "text/x-python",
   "name": "python",
   "nbconvert_exporter": "python",
   "pygments_lexer": "ipython3",
   "version": "3.7.7"
  }
 },
 "nbformat": 4,
 "nbformat_minor": 2
}
